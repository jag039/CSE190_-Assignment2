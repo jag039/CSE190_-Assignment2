{
 "cells": [
  {
   "cell_type": "markdown",
   "metadata": {},
   "source": [
    "# CSE 190: Fairness, bias, and transparency in Machine Learning\n",
    "\n",
    "# Assignment 2\n"
   ]
  },
  {
   "cell_type": "code",
   "execution_count": 155,
   "metadata": {},
   "outputs": [],
   "source": [
    "import kagglehub\n",
    "import os\n",
    "import pandas as pd\n",
    "import numpy as np\n",
    "import seaborn as sns\n",
    "import matplotlib.pyplot as plt\n",
    "from sklearn.linear_model import LogisticRegression\n",
    "from sklearn.model_selection import train_test_split\n",
    "from sklearn.metrics import accuracy_score, balanced_accuracy_score, classification_report"
   ]
  },
  {
   "cell_type": "markdown",
   "metadata": {},
   "source": [
    "## <ins>Exploratory analysis and fairness metrics</ins>\n",
    "\n"
   ]
  },
  {
   "cell_type": "code",
   "execution_count": 156,
   "metadata": {},
   "outputs": [
    {
     "name": "stdout",
     "output_type": "stream",
     "text": [
      "(4870, 30)\n"
     ]
    },
    {
     "data": {
      "text/html": [
       "<div>\n",
       "<style scoped>\n",
       "    .dataframe tbody tr th:only-of-type {\n",
       "        vertical-align: middle;\n",
       "    }\n",
       "\n",
       "    .dataframe tbody tr th {\n",
       "        vertical-align: top;\n",
       "    }\n",
       "\n",
       "    .dataframe thead th {\n",
       "        text-align: right;\n",
       "    }\n",
       "</style>\n",
       "<table border=\"1\" class=\"dataframe\">\n",
       "  <thead>\n",
       "    <tr style=\"text-align: right;\">\n",
       "      <th></th>\n",
       "      <th>job_ad_id</th>\n",
       "      <th>job_city</th>\n",
       "      <th>job_industry</th>\n",
       "      <th>job_type</th>\n",
       "      <th>job_fed_contractor</th>\n",
       "      <th>job_equal_opp_employer</th>\n",
       "      <th>job_ownership</th>\n",
       "      <th>job_req_any</th>\n",
       "      <th>job_req_communication</th>\n",
       "      <th>job_req_education</th>\n",
       "      <th>...</th>\n",
       "      <th>honors</th>\n",
       "      <th>worked_during_school</th>\n",
       "      <th>years_experience</th>\n",
       "      <th>computer_skills</th>\n",
       "      <th>special_skills</th>\n",
       "      <th>volunteer</th>\n",
       "      <th>military</th>\n",
       "      <th>employment_holes</th>\n",
       "      <th>has_email_address</th>\n",
       "      <th>resume_quality</th>\n",
       "    </tr>\n",
       "  </thead>\n",
       "  <tbody>\n",
       "    <tr>\n",
       "      <th>0</th>\n",
       "      <td>384</td>\n",
       "      <td>Chicago</td>\n",
       "      <td>manufacturing</td>\n",
       "      <td>supervisor</td>\n",
       "      <td>NaN</td>\n",
       "      <td>1</td>\n",
       "      <td>unknown</td>\n",
       "      <td>1</td>\n",
       "      <td>0</td>\n",
       "      <td>0</td>\n",
       "      <td>...</td>\n",
       "      <td>0</td>\n",
       "      <td>0</td>\n",
       "      <td>6</td>\n",
       "      <td>1</td>\n",
       "      <td>0</td>\n",
       "      <td>0</td>\n",
       "      <td>0</td>\n",
       "      <td>1</td>\n",
       "      <td>0</td>\n",
       "      <td>low</td>\n",
       "    </tr>\n",
       "    <tr>\n",
       "      <th>1</th>\n",
       "      <td>384</td>\n",
       "      <td>Chicago</td>\n",
       "      <td>manufacturing</td>\n",
       "      <td>supervisor</td>\n",
       "      <td>NaN</td>\n",
       "      <td>1</td>\n",
       "      <td>unknown</td>\n",
       "      <td>1</td>\n",
       "      <td>0</td>\n",
       "      <td>0</td>\n",
       "      <td>...</td>\n",
       "      <td>0</td>\n",
       "      <td>1</td>\n",
       "      <td>6</td>\n",
       "      <td>1</td>\n",
       "      <td>0</td>\n",
       "      <td>1</td>\n",
       "      <td>1</td>\n",
       "      <td>0</td>\n",
       "      <td>1</td>\n",
       "      <td>high</td>\n",
       "    </tr>\n",
       "    <tr>\n",
       "      <th>2</th>\n",
       "      <td>384</td>\n",
       "      <td>Chicago</td>\n",
       "      <td>manufacturing</td>\n",
       "      <td>supervisor</td>\n",
       "      <td>NaN</td>\n",
       "      <td>1</td>\n",
       "      <td>unknown</td>\n",
       "      <td>1</td>\n",
       "      <td>0</td>\n",
       "      <td>0</td>\n",
       "      <td>...</td>\n",
       "      <td>0</td>\n",
       "      <td>1</td>\n",
       "      <td>6</td>\n",
       "      <td>1</td>\n",
       "      <td>0</td>\n",
       "      <td>0</td>\n",
       "      <td>0</td>\n",
       "      <td>0</td>\n",
       "      <td>0</td>\n",
       "      <td>low</td>\n",
       "    </tr>\n",
       "    <tr>\n",
       "      <th>3</th>\n",
       "      <td>384</td>\n",
       "      <td>Chicago</td>\n",
       "      <td>manufacturing</td>\n",
       "      <td>supervisor</td>\n",
       "      <td>NaN</td>\n",
       "      <td>1</td>\n",
       "      <td>unknown</td>\n",
       "      <td>1</td>\n",
       "      <td>0</td>\n",
       "      <td>0</td>\n",
       "      <td>...</td>\n",
       "      <td>0</td>\n",
       "      <td>0</td>\n",
       "      <td>6</td>\n",
       "      <td>1</td>\n",
       "      <td>1</td>\n",
       "      <td>1</td>\n",
       "      <td>0</td>\n",
       "      <td>1</td>\n",
       "      <td>1</td>\n",
       "      <td>high</td>\n",
       "    </tr>\n",
       "    <tr>\n",
       "      <th>4</th>\n",
       "      <td>385</td>\n",
       "      <td>Chicago</td>\n",
       "      <td>other_service</td>\n",
       "      <td>secretary</td>\n",
       "      <td>0.0</td>\n",
       "      <td>1</td>\n",
       "      <td>nonprofit</td>\n",
       "      <td>1</td>\n",
       "      <td>0</td>\n",
       "      <td>0</td>\n",
       "      <td>...</td>\n",
       "      <td>0</td>\n",
       "      <td>1</td>\n",
       "      <td>22</td>\n",
       "      <td>1</td>\n",
       "      <td>0</td>\n",
       "      <td>0</td>\n",
       "      <td>0</td>\n",
       "      <td>0</td>\n",
       "      <td>1</td>\n",
       "      <td>high</td>\n",
       "    </tr>\n",
       "  </tbody>\n",
       "</table>\n",
       "<p>5 rows × 30 columns</p>\n",
       "</div>"
      ],
      "text/plain": [
       "   job_ad_id job_city   job_industry    job_type  job_fed_contractor  \\\n",
       "0        384  Chicago  manufacturing  supervisor                 NaN   \n",
       "1        384  Chicago  manufacturing  supervisor                 NaN   \n",
       "2        384  Chicago  manufacturing  supervisor                 NaN   \n",
       "3        384  Chicago  manufacturing  supervisor                 NaN   \n",
       "4        385  Chicago  other_service   secretary                 0.0   \n",
       "\n",
       "   job_equal_opp_employer job_ownership  job_req_any  job_req_communication  \\\n",
       "0                       1       unknown            1                      0   \n",
       "1                       1       unknown            1                      0   \n",
       "2                       1       unknown            1                      0   \n",
       "3                       1       unknown            1                      0   \n",
       "4                       1     nonprofit            1                      0   \n",
       "\n",
       "   job_req_education  ... honors  worked_during_school  years_experience  \\\n",
       "0                  0  ...      0                     0                 6   \n",
       "1                  0  ...      0                     1                 6   \n",
       "2                  0  ...      0                     1                 6   \n",
       "3                  0  ...      0                     0                 6   \n",
       "4                  0  ...      0                     1                22   \n",
       "\n",
       "  computer_skills  special_skills volunteer military employment_holes  \\\n",
       "0               1               0         0        0                1   \n",
       "1               1               0         1        1                0   \n",
       "2               1               0         0        0                0   \n",
       "3               1               1         1        0                1   \n",
       "4               1               0         0        0                0   \n",
       "\n",
       "   has_email_address  resume_quality  \n",
       "0                  0             low  \n",
       "1                  1            high  \n",
       "2                  0             low  \n",
       "3                  1            high  \n",
       "4                  1            high  \n",
       "\n",
       "[5 rows x 30 columns]"
      ]
     },
     "execution_count": 156,
     "metadata": {},
     "output_type": "execute_result"
    }
   ],
   "source": [
    "dataset_path = kagglehub.dataset_download(\"utkarshx27/which-resume-attributes-drive-job-callbacks\")\n",
    "df = pd.read_csv(dataset_path + \"/resume.csv\")\n",
    "print(df.shape)\n",
    "df.head()\n"
   ]
  },
  {
   "cell_type": "markdown",
   "metadata": {},
   "source": [
    "#### Dataset Context:\n",
    "\n",
    "The dataset was collected to analyze how the perceived race of a job applicant (as indicated by their name) affects their chances of receiving a callback from employers. The study investigates whether White-sounding names receive more callbacks than African American-sounding names, controlling for resume quality and other factors.\n",
    "<br/><br/>\n",
    "\n",
    "Dataset Collection:\n",
    "- Researchers sent out 4870 fake resumes in response to 1,344 job postings in newspapers from Chicago and Boston.\n",
    "- Each job posting received four resumes, two of higher quality and two of lower quality.\n",
    "- Half of the resumes were assigned White-sounding names (e.g., Emily Walsh, Greg Baker), and the other half were assigned African American-sounding names (e.g., Lakisha Washington, Jamal Jones).\n",
    "- Researchers then tracked which resumes received callbacks from employers.\n",
    "<br/><br/>\n",
    "\n",
    "Dataset features:\n",
    "- Name assigned to the resume (name is meant to communicate the applicant's gender and race.)\n",
    "- Resume features\n",
    "  - Inferred gender associated with the first name on the resume\n",
    "  - Inferred race associated with the first name on the resume\n",
    "  - Years of college education listed on the resume\n",
    "  - Indicator for if the resume listed a college degree\n",
    "  - Indicator for if the resume listed that the candidate has been awarded some honors\n",
    "  - Indicator for if the resume listed working while in school\n",
    "  - Years of experience listed on the resume\n",
    "  - Indicator for if computer skills were listed on the resume\n",
    "  - Indicator for if any special skills were listed on the resume\n",
    "  - Indicator for if volunteering was listed on the resume\n",
    "  - Indicator for if military experience was listed on the resume\n",
    "  - Indicator for if there were holes in the person's employment history\n",
    "  - Indicator for if the resume lists an email address\n",
    "  - Each resume was generally classified as either lower or higher quality\n",
    "- Job ad details\n",
    "  - City where the job was located\n",
    "  - Industry of the job\n",
    "  - Type of role\n",
    "  - Indicator for if the employer is a federal contractor\n",
    "  - Indicator for if the employer is an Equal Opportunity Employer\n",
    "  - The type of company, e.g. a nonprofit or a private company\n",
    "  - Indicator for if any job requirements are listed. If so, the other job_req_* fields give more detail\n",
    "  - Indicator for if communication skills are required\n",
    "  - Indicator for if some level of education is required\n",
    "  - Amount of experience required\n",
    "  - Indicator for if computer skills are required\n",
    "  - Indicator for if organization skills are required\n",
    "  - Level of education required\n",
    "  - Indicator for if there was a callback from the job posting for the person listed on this resume\n",
    "- Indicator for if there was a callback from the job posting for the person listed on this resume"
   ]
  },
  {
   "cell_type": "code",
   "execution_count": 154,
   "metadata": {},
   "outputs": [
    {
     "data": {
      "image/png": "[encoded data removed]",
      "text/plain": [
       "<Figure size 1200x500 with 2 Axes>"
      ]
     },
     "metadata": {},
     "output_type": "display_data"
    },
    {
     "name": "stdout",
     "output_type": "stream",
     "text": [
      "job_equal_opp_employer    0\n",
      "job_req_any               0\n",
      "job_req_communication     0\n",
      "job_req_education         0\n",
      "job_req_computer          0\n",
      "job_req_organization      0\n",
      "received_callback         0\n",
      "race                      0\n",
      "gender                    0\n",
      "years_college             0\n",
      "college_degree            0\n",
      "honors                    0\n",
      "worked_during_school      0\n",
      "years_experience          0\n",
      "computer_skills           0\n",
      "special_skills            0\n",
      "volunteer                 0\n",
      "military                  0\n",
      "employment_holes          0\n",
      "has_email_address         0\n",
      "resume_quality            0\n",
      "dtype: int64\n"
     ]
    }
   ],
   "source": [
    "fig, axes = plt.subplots(1, 3, figsize=(12, 5))\n",
    "\n",
    "sns.countplot(x=\"race\", hue=\"received_callback\", data=df, ax=axes[0])\n",
    "axes[0].set_xlabel(\"Race\")\n",
    "axes[0].set_ylabel(\"Count\")\n",
    "axes[0].set_title(\"Callback Rates by Race\")\n",
    "\n",
    "sns.countplot(x=\"gender\", hue=\"received_callback\", data=df, ax=axes[1])\n",
    "axes[1].set_xlabel(\"Gender\")\n",
    "axes[1].set_ylabel(\"Count\")\n",
    "axes[1].set_title(\"Callback Rates by Gender\")\n",
    "plt.tight_layout()\n",
    "plt.show()\n",
    "\n",
    "print(df.isnull().sum())"
   ]
  },
  {
   "cell_type": "markdown",
   "metadata": {},
   "source": [
    "### Data Cleaning\n",
    "\n",
    "1. We will convert race, gender, and resume quality to binary labels.\n",
    "   - race: White -> 0, Black -> 1\n",
    "   - gender: Male (m) -> 0, Female (f) -> 1\n",
    "   - resume_quality: Low -> 0, High -> 1\n",
    "<br/><br/>\n",
    "\n",
    "1. We will drop these features\n",
    "   - 'firstname' - Does not matter as the first name information is held within the race and gender features\n",
    "   - job_ad_id – A unique job identifier, not relevant\n",
    "   - job_city – Not relevant\n",
    "   - job_industry – Not relevant\n",
    "   - job_type – The type of job (e.g., full-time, part-time) may not be necessary for our study.\n",
    "   - job_ownership – Not relevant\n",
    "   - job_req_min_experience – Not relevant\n",
    "   - job_req_school – Not relevant\n",
    "   - job_fed_contractor - lots of NaN"
   ]
  },
  {
   "cell_type": "code",
   "execution_count": 148,
   "metadata": {},
   "outputs": [
    {
     "name": "stdout",
     "output_type": "stream",
     "text": [
      "<class 'pandas.core.frame.DataFrame'>\n",
      "RangeIndex: 4870 entries, 0 to 4869\n",
      "Data columns (total 21 columns):\n",
      " #   Column                  Non-Null Count  Dtype\n",
      "---  ------                  --------------  -----\n",
      " 0   job_equal_opp_employer  4870 non-null   int64\n",
      " 1   job_req_any             4870 non-null   int64\n",
      " 2   job_req_communication   4870 non-null   int64\n",
      " 3   job_req_education       4870 non-null   int64\n",
      " 4   job_req_computer        4870 non-null   int64\n",
      " 5   job_req_organization    4870 non-null   int64\n",
      " 6   received_callback       4870 non-null   int64\n",
      " 7   race                    4870 non-null   int64\n",
      " 8   gender                  4870 non-null   int64\n",
      " 9   years_college           4870 non-null   int64\n",
      " 10  college_degree          4870 non-null   int64\n",
      " 11  honors                  4870 non-null   int64\n",
      " 12  worked_during_school    4870 non-null   int64\n",
      " 13  years_experience        4870 non-null   int64\n",
      " 14  computer_skills         4870 non-null   int64\n",
      " 15  special_skills          4870 non-null   int64\n",
      " 16  volunteer               4870 non-null   int64\n",
      " 17  military                4870 non-null   int64\n",
      " 18  employment_holes        4870 non-null   int64\n",
      " 19  has_email_address       4870 non-null   int64\n",
      " 20  resume_quality          4870 non-null   int64\n",
      "dtypes: int64(21)\n",
      "memory usage: 799.1 KB\n",
      "None\n"
     ]
    }
   ],
   "source": [
    "df['race'] = df['race'].map({'white': 0, 'black': 1})\n",
    "df['gender'] = df['gender'].map({'m': 0, 'f': 1})\n",
    "df['resume_quality'] = df['resume_quality'].map({'low': 0, 'high': 1})\n",
    "df = df.drop(columns=['firstname', 'job_ad_id', 'job_city', 'job_industry', 'job_type', 'job_ownership', 'job_req_min_experience', 'job_req_school', 'job_fed_contractor', ])\n",
    "print(df.info())"
   ]
  },
  {
   "cell_type": "markdown",
   "metadata": {},
   "source": []
  },
  {
   "cell_type": "code",
   "execution_count": 149,
   "metadata": {},
   "outputs": [
    {
     "name": "stdout",
     "output_type": "stream",
     "text": [
      "Accuracy: 0.6386\n",
      "Precision: 0.1337\n",
      "Recall (True Positive Rate): 0.6410\n",
      "F1-score: 0.2212\n",
      "\n",
      "Fairness Metrics (Race as Sensitive Attribute):\n",
      "TPR (White) : 0.7609\n",
      "FPR (White) : 0.4522\n",
      "TPR (Black) : 0.4688\n",
      "FPR (Black) : 0.2824\n"
     ]
    }
   ],
   "source": [
    "X = df.drop(columns=['received_callback'])\n",
    "y = df['received_callback']\n",
    "X_train, X_test, y_train, y_test = train_test_split(X, y, test_size=0.2, random_state=42, stratify=y)\n",
    "\n",
    "clf = LogisticRegression(class_weight=\"balanced\", max_iter=1000)\n",
    "clf.fit(X_train, y_train)\n",
    "\n",
    "y_pred = clf.predict(X_test)\n",
    "\n",
    "accuracy = accuracy_score(y_test, y_pred)\n",
    "balanced_acc = balanced_accuracy_score(y_test, y_pred)\n",
    "report = classification_report(y_test, y_pred, output_dict=True)\n",
    "\n",
    "precision = report['1']['precision']\n",
    "recall = report['1']['recall']\n",
    "f1 = report['1']['f1-score']\n",
    "\n",
    "print(f\"Accuracy: {accuracy:.4f}\")\n",
    "print(f\"Precision: {precision:.4f}\")\n",
    "print(f\"Recall (True Positive Rate): {recall:.4f}\")\n",
    "print(f\"F1-score: {f1:.4f}\")\n",
    "\n",
    "def fairness_metrics(y_true, y_pred, sensitive_feature):\n",
    "    group_0 = (sensitive_feature == 0)\n",
    "    group_1 = (sensitive_feature == 1)\n",
    "\n",
    "    def compute_tpr(y_true_group, y_pred_group):\n",
    "        tp = np.sum((y_pred_group == 1) & (y_true_group == 1))\n",
    "        fn = np.sum((y_pred_group == 0) & (y_true_group == 1))\n",
    "        return tp / (tp + fn) if (tp + fn) > 0 else 0\n",
    "\n",
    "    def compute_fpr(y_true_group, y_pred_group):\n",
    "        fp = np.sum((y_pred_group == 1) & (y_true_group == 0))\n",
    "        tn = np.sum((y_pred_group == 0) & (y_true_group == 0))\n",
    "        return fp / (fp + tn) if (fp + tn) > 0 else 0\n",
    "\n",
    "    tpr_0 = compute_tpr(y_true[group_0], y_pred[group_0])\n",
    "    tpr_1 = compute_tpr(y_true[group_1], y_pred[group_1])\n",
    "    fpr_0 = compute_fpr(y_true[group_0], y_pred[group_0])\n",
    "    fpr_1 = compute_fpr(y_true[group_1], y_pred[group_1])\n",
    "\n",
    "    return tpr_0, fpr_0, tpr_1, fpr_1\n",
    "\n",
    "tpr_0, fpr_0, tpr_1, fpr_1 = fairness_metrics(y_test.to_numpy(), y_pred, X_test['race'].to_numpy())\n",
    "\n",
    "\n",
    "print(\"\\nFairness Metrics (Race as Sensitive Attribute):\")\n",
    "print(f\"TPR (White) : {tpr_0:.4f}\")\n",
    "print(f\"FPR (White) : {fpr_0:.4f}\")\n",
    "print(f\"TPR (Black) : {tpr_1:.4f}\")\n",
    "print(f\"FPR (Black) : {fpr_1:.4f}\")\n"
   ]
  },
  {
   "cell_type": "markdown",
   "metadata": {},
   "source": [
    "DISCUSSION"
   ]
  },
  {
   "cell_type": "markdown",
   "metadata": {},
   "source": [
    "## <ins>Interventions</ins>"
   ]
  },
  {
   "cell_type": "markdown",
   "metadata": {},
   "source": [
    "4. Code: How much can “unfairness” in your predictions be explained by dataset\n",
    "characteristics? Can you fix them with dataset-based interventions?\n",
    "\n",
    "    Say a little something about the code cell for 4."
   ]
  },
  {
   "cell_type": "code",
   "execution_count": 150,
   "metadata": {},
   "outputs": [],
   "source": [
    "# 4. Code"
   ]
  },
  {
   "cell_type": "markdown",
   "metadata": {},
   "source": [
    "5. Code: How do different modeling choices impact fairness characteristics? Can\n",
    "you fix them with in-processing interventions?\n",
    "\n",
    "    Say a little something about different modeling choices impacting fairness, and in-processing intervention"
   ]
  },
  {
   "cell_type": "code",
   "execution_count": 151,
   "metadata": {},
   "outputs": [],
   "source": [
    "# 5. Code"
   ]
  },
  {
   "cell_type": "markdown",
   "metadata": {},
   "source": [
    "6. Code: Can you apply post-processing interventions to achieve desired fairness\n",
    "outcomes?\n",
    "\n",
    "    Talk about post processing intervention for the following code cell"
   ]
  },
  {
   "cell_type": "code",
   "execution_count": 152,
   "metadata": {},
   "outputs": [],
   "source": [
    "# 6. Code"
   ]
  },
  {
   "cell_type": "markdown",
   "metadata": {},
   "source": [
    "7. Discussion: What types of interventions are most appropriate for your task (e.g.\n",
    "legal, practical to deploy, etc.)? What are the tradeoffs between them (e.g. how\n",
    "are other metrics negatively impacted by a particular intervention, etc.)"
   ]
  },
  {
   "cell_type": "markdown",
   "metadata": {},
   "source": [
    "## <ins>Research Paper</ins>"
   ]
  },
  {
   "cell_type": "markdown",
   "metadata": {},
   "source": [
    "8. Context: Summarize the main contributions of the paper and its relevance to\n",
    "your task."
   ]
  },
  {
   "cell_type": "markdown",
   "metadata": {},
   "source": [
    "9. Code: Attempt to reproduce results similar to those reported in the paper on your\n",
    "dataset (or comment in detail about any failure to do so)\n",
    "\n",
    "    Say something like in the following code cell we will attempt to reproduce these results"
   ]
  },
  {
   "cell_type": "code",
   "execution_count": 153,
   "metadata": {},
   "outputs": [],
   "source": [
    "# 9. Code"
   ]
  },
  {
   "cell_type": "markdown",
   "metadata": {},
   "source": [
    "10. Discussion: Is it more effective than other intervention strategies you tried? Why\n",
    "or why not? Conclude your presentation with a general discussion of what was\n",
    "and was not effective for your task."
   ]
  }
 ],
 "metadata": {
  "kernelspec": {
   "display_name": "Python 3.12.3 64-bit",
   "language": "python",
   "name": "python3"
  },
  "language_info": {
   "codemirror_mode": {
    "name": "ipython",
    "version": 3
   },
   "file_extension": ".py",
   "mimetype": "text/x-python",
   "name": "python",
   "nbconvert_exporter": "python",
   "pygments_lexer": "ipython3",
   "version": "3.12.3"
  },
  "orig_nbformat": 4,
  "vscode": {
   "interpreter": {
    "hash": "aee8b7b246df8f9039afb4144a1f6fd8d2ca17a180786b69acc140d282b71a49"
   }
  }
 },
 "nbformat": 4,
 "nbformat_minor": 2
}
